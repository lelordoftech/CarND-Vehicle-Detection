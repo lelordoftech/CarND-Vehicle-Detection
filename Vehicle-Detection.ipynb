{
 "cells": [
  {
   "cell_type": "markdown",
   "metadata": {},
   "source": [
    "## Vehicle Detection and Tracking Project\n",
    "\n",
    "The goals / steps of this project are the following:\n",
    "\n",
    "* Perform a Histogram of Oriented Gradients (HOG) feature extraction on a labeled training set of images and train a classifier Linear SVM classifier\n",
    "* Optionally, you can also apply a color transform and append binned color features, as well as histograms of color, to your HOG feature vector. \n",
    "* Note: for those first two steps don't forget to normalize your features and randomize a selection for training and testing.\n",
    "* Implement a sliding-window technique and use your trained classifier to search for vehicles in images.\n",
    "* Run your pipeline on a video stream (start with the test_video.mp4 and later implement on full project_video.mp4) and create a heat map of recurring detections frame by frame to reject outliers and follow detected vehicles.\n",
    "* Estimate a bounding box for vehicles detected."
   ]
  },
  {
   "cell_type": "markdown",
   "metadata": {},
   "source": [
    "## Step 1: Make a list of image to read in"
   ]
  },
  {
   "cell_type": "markdown",
   "metadata": {},
   "source": [
    "### 1.1 Import library"
   ]
  },
  {
   "cell_type": "code",
   "execution_count": null,
   "metadata": {
    "collapsed": true
   },
   "outputs": [],
   "source": [
    "import os\n",
    "import glob"
   ]
  },
  {
   "cell_type": "markdown",
   "metadata": {},
   "source": [
    "### 1.2 Make a list of image"
   ]
  },
  {
   "cell_type": "code",
   "execution_count": null,
   "metadata": {},
   "outputs": [],
   "source": [
    "cars = []\n",
    "notcars = []\n",
    "for folder in os.listdir('dataset/vehicles'):\n",
    "    cars += glob.glob('dataset/vehicles/'+folder+'/*.png')\n",
    "for folder in os.listdir('dataset/non-vehicles'):\n",
    "    notcars += glob.glob('dataset/non-vehicles/'+folder+'/*.png')\n",
    "\n",
    "print('Number of Vehicle Image found:', len(cars))\n",
    "print('Number of Non Vehicle Image found:', len(notcars))"
   ]
  },
  {
   "cell_type": "markdown",
   "metadata": {
    "collapsed": true
   },
   "source": [
    "## Step 2: Extract Features: color, HOG"
   ]
  },
  {
   "cell_type": "markdown",
   "metadata": {},
   "source": [
    "### 2.1 Import library"
   ]
  },
  {
   "cell_type": "code",
   "execution_count": null,
   "metadata": {
    "collapsed": true
   },
   "outputs": [],
   "source": [
    "import matplotlib.image as mpimg\n",
    "import matplotlib.pyplot as plt\n",
    "# Visualizations will be shown in the notebook.\n",
    "%matplotlib inline\n",
    "import numpy as np\n",
    "import cv2\n",
    "from skimage.feature import hog"
   ]
  },
  {
   "cell_type": "markdown",
   "metadata": {},
   "source": [
    "### 2.2 Import library for visualize progressing"
   ]
  },
  {
   "cell_type": "code",
   "execution_count": null,
   "metadata": {
    "collapsed": true
   },
   "outputs": [],
   "source": [
    "from tqdm import tqdm"
   ]
  },
  {
   "cell_type": "markdown",
   "metadata": {},
   "source": [
    "### 2.2 Define Functions"
   ]
  },
  {
   "cell_type": "code",
   "execution_count": null,
   "metadata": {
    "collapsed": true
   },
   "outputs": [],
   "source": [
    "# Define a function to return HOG features and visualization\n",
    "def get_hog_features(img, orient, pix_per_cell, cell_per_block, \n",
    "                        vis=False, feature_vec=True):\n",
    "    # Call with two outputs if vis==True\n",
    "    if vis == True:\n",
    "        features, hog_image = hog(img, orientations=orient, \n",
    "                                  pixels_per_cell=(pix_per_cell, pix_per_cell), \n",
    "                                  cells_per_block=(cell_per_block, cell_per_block), \n",
    "                                  transform_sqrt=False, \n",
    "                                  visualise=vis, feature_vector=feature_vec, \n",
    "                                  block_norm='L2-Hys')\n",
    "        return features, hog_image\n",
    "    # Otherwise call with one output\n",
    "    else:      \n",
    "        features = hog(img, orientations=orient, \n",
    "                       pixels_per_cell=(pix_per_cell, pix_per_cell), \n",
    "                       cells_per_block=(cell_per_block, cell_per_block), \n",
    "                       transform_sqrt=False, \n",
    "                       visualise=vis, feature_vector=feature_vec, \n",
    "                       block_norm='L2-Hys')\n",
    "        return features\n",
    "\n",
    "def bin_spatial(img, size=(32, 32)):\n",
    "    color1 = cv2.resize(img[:,:,0], size).ravel()\n",
    "    color2 = cv2.resize(img[:,:,1], size).ravel()\n",
    "    color3 = cv2.resize(img[:,:,2], size).ravel()\n",
    "    return np.hstack((color1, color2, color3))\n",
    "\n",
    "# Define a function to compute color histogram features \n",
    "# NEED TO CHANGE bins_range if reading .png files with mpimg!\n",
    "def color_hist(img, nbins=32, bins_range=(0, 256)):\n",
    "    # Compute the histogram of the color channels separately\n",
    "    channel1_hist = np.histogram(img[:,:,0], bins=nbins)\n",
    "    channel2_hist = np.histogram(img[:,:,1], bins=nbins)\n",
    "    channel3_hist = np.histogram(img[:,:,2], bins=nbins)\n",
    "    # Concatenate the histograms into a single feature vector\n",
    "    hist_features = np.concatenate((channel1_hist[0], channel2_hist[0], channel3_hist[0]))\n",
    "    # Return the individual histograms, bin_centers and feature vector\n",
    "    return hist_features\n",
    "\n",
    "# Define a function to convert color \n",
    "def convert_color(image, color_space='YCrCb'):\n",
    "    if color_space != 'RGB':\n",
    "        if color_space == 'HSV':\n",
    "            output_image = cv2.cvtColor(image, cv2.COLOR_RGB2HSV)\n",
    "        elif color_space == 'LUV':\n",
    "            output_image = cv2.cvtColor(image, cv2.COLOR_RGB2LUV)\n",
    "        elif color_space == 'HLS':\n",
    "            output_image = cv2.cvtColor(image, cv2.COLOR_RGB2HLS)\n",
    "        elif color_space == 'YUV':\n",
    "            output_image = cv2.cvtColor(image, cv2.COLOR_RGB2YUV)\n",
    "        elif color_space == 'YCrCb':\n",
    "            output_image = cv2.cvtColor(image, cv2.COLOR_RGB2YCrCb)\n",
    "        else:\n",
    "            print('Do not support color space:', color_space)\n",
    "    else:\n",
    "        output_image = np.copy(image)\n",
    "    return output_image\n",
    "\n",
    "# Define a function to extract features from a single image window\n",
    "# This function is very similar to extract_features()\n",
    "# just for a single image rather than list of images\n",
    "def single_img_features(img, color_space='RGB', spatial_size=(32, 32),\n",
    "                        hist_bins=32, orient=9, \n",
    "                        pix_per_cell=8, cell_per_block=2, hog_channel=0,\n",
    "                        spatial_feat=True, hist_feat=True, hog_feat=True,\n",
    "                        vis=False):\n",
    "    #1) Define an empty list to receive features\n",
    "    img_features = []\n",
    "    #2) Apply color conversion\n",
    "    feature_image = convert_color(img, color_space)\n",
    "    #3) Compute spatial features if flag is set\n",
    "    if spatial_feat == True:\n",
    "        spatial_features = bin_spatial(feature_image, size=spatial_size)\n",
    "        #4) Append features to list\n",
    "        img_features.append(spatial_features)\n",
    "    #5) Compute histogram features if flag is set\n",
    "    if hist_feat == True:\n",
    "        hist_features = color_hist(feature_image, nbins=hist_bins)\n",
    "        #6) Append features to list\n",
    "        img_features.append(hist_features)\n",
    "    #7) Compute HOG features if flag is set\n",
    "    if hog_feat == True:\n",
    "        # Call get_hog_features() with vis=False, feature_vec=True\n",
    "        if hog_channel == 'ALL':\n",
    "            hog_features = []\n",
    "            for channel in range(feature_image.shape[2]):\n",
    "                hog_features.append(get_hog_features(feature_image[:,:,channel], \n",
    "                                    orient, pix_per_cell, cell_per_block, \n",
    "                                    vis=False, feature_vec=True))\n",
    "            hog_features = np.ravel(hog_features)        \n",
    "        else:\n",
    "            if vis == True:\n",
    "                hog_features, hog_image = get_hog_features(feature_image[:,:,hog_channel], orient, \n",
    "                            pix_per_cell, cell_per_block, vis=True, feature_vec=True)\n",
    "            else:\n",
    "                hog_features = get_hog_features(feature_image[:,:,hog_channel], orient, \n",
    "                            pix_per_cell, cell_per_block, vis=False, feature_vec=True)\n",
    "\n",
    "        #8) Append features to list\n",
    "        img_features.append(hog_features)\n",
    "\n",
    "    #9) Return concatenated array of features\n",
    "    if vis == True:\n",
    "        return np.concatenate(img_features), hog_image\n",
    "    else:\n",
    "        return np.concatenate(img_features)\n",
    "\n",
    "# Define a function to extract features from a list of images\n",
    "# Have this function call bin_spatial() and color_hist()\n",
    "def extract_features(imgs, color_space='RGB', spatial_size=(32, 32),\n",
    "                        hist_bins=32, orient=9, \n",
    "                        pix_per_cell=8, cell_per_block=2, hog_channel=0,\n",
    "                        spatial_feat=True, hist_feat=True, hog_feat=True):\n",
    "    # Create a list to append feature vectors to\n",
    "    features = []\n",
    "    # Iterate through the list of images\n",
    "    #for file in imgs:\n",
    "    num_of_imgs = len(imgs)\n",
    "    for file_id in tqdm(range(num_of_imgs), desc='Extracting'):\n",
    "        file = imgs[file_id]\n",
    "        # Read in each one by one\n",
    "        image = mpimg.imread(file)\n",
    "        file_features = single_img_features(image, color_space, spatial_size,\n",
    "                        hist_bins, orient, \n",
    "                        pix_per_cell, cell_per_block, hog_channel,\n",
    "                        spatial_feat, hist_feat, hog_feat,\n",
    "                        vis=False)\n",
    "        features.append(file_features)\n",
    "    # Return list of feature vectors\n",
    "    return features\n",
    "\n",
    "# Define a function for plotting multiple images\n",
    "def visualize(fig, rows, cols, imgs, titles):\n",
    "    for i, img in enumerate(imgs):\n",
    "        plt.subplot(rows, cols, i+1)\n",
    "        plt.title(i+1)\n",
    "        img_dims = len(img.shape)\n",
    "        if img_dims < 3:\n",
    "            plt.imshow(img, cmap='hot')\n",
    "        else:\n",
    "            plt.imshow(img)\n",
    "        plt.title(titles[i])"
   ]
  },
  {
   "cell_type": "markdown",
   "metadata": {},
   "source": [
    "### 2.4 Test a Car/NonCar image"
   ]
  },
  {
   "cell_type": "code",
   "execution_count": null,
   "metadata": {},
   "outputs": [],
   "source": [
    "# Choose random car/not-car indices\n",
    "car_ind = np.random.randint(0, len(cars))\n",
    "notcar_ind = np.random.randint(0, len(notcars))\n",
    "\n",
    "# Read in car/not-car images\n",
    "car_image = mpimg.imread(cars[car_ind])\n",
    "notcar_image = mpimg.imread(notcars[notcar_ind])\n",
    "\n",
    "# Plot in notebook\n",
    "f, (ax1, ax2) = plt.subplots(1, 2, figsize=(10, 5))\n",
    "f.tight_layout()\n",
    "ax1.imshow(car_image)\n",
    "ax1.set_title('Car Image', fontsize=20)\n",
    "ax2.imshow(notcar_image)\n",
    "ax2.set_title('Non Car Image', fontsize=20)\n",
    "plt.subplots_adjust(left=0.1, right=0.9, top=0.9, bottom=0.)\n",
    "# Save to local disk\n",
    "plt.savefig('output_images/car_noncar_image.png')"
   ]
  },
  {
   "cell_type": "markdown",
   "metadata": {
    "collapsed": true
   },
   "source": [
    "### 2.5 Test Extract Feature of single image"
   ]
  },
  {
   "cell_type": "markdown",
   "metadata": {},
   "source": [
    "#### 2.5.1 Import library for check timing"
   ]
  },
  {
   "cell_type": "code",
   "execution_count": null,
   "metadata": {
    "collapsed": true
   },
   "outputs": [],
   "source": [
    "import time"
   ]
  },
  {
   "cell_type": "markdown",
   "metadata": {},
   "source": [
    "#### 2.5.2 Test"
   ]
  },
  {
   "cell_type": "code",
   "execution_count": null,
   "metadata": {},
   "outputs": [],
   "source": [
    "# Define feature parameters\n",
    "color_space = 'YCrCb' # Can be RGB, HSV, LUV, HLS, YUV, YCrCb\n",
    "hog_feat = True # HOG features on or off\n",
    "hog_channel = 1 # Can be 0, 1, 2, or \"ALL\"\n",
    "orient = 9 # HOG orientations\n",
    "pix_per_cell = 8 # HOG pixels per cell\n",
    "cell_per_block = 2 # HOG cells per block\n",
    "hist_feat = True # Histogram features on or off\n",
    "hist_bins = 32 # Number of histogram bins\n",
    "spatial_feat = True # Spatial features on or off\n",
    "spatial_size = (32, 32) # Spatial binning dimensions\n",
    "\n",
    "print('Using:', color_space, 'color space',\n",
    "      orient, 'orientations', pix_per_cell, 'pixels per cell',\n",
    "      cell_per_block, 'cells per block', hog_channel, 'hog channel',\n",
    "      hist_bins, 'histogram bins and', spatial_size, 'spatial sampling')\n",
    "\n",
    "t=time.time()\n",
    "car_features, car_hog_image = single_img_features(car_image, color_space=color_space, \n",
    "                        spatial_size=spatial_size, hist_bins=hist_bins, \n",
    "                        orient=orient, pix_per_cell=pix_per_cell, \n",
    "                        cell_per_block=cell_per_block, \n",
    "                        hog_channel=hog_channel, spatial_feat=spatial_feat, \n",
    "                        hist_feat=hist_feat, hog_feat=hog_feat, vis=True)\n",
    "print(round(time.time()-t, 2), 'Seconds to extract HOG features of 1 samples')\n",
    "\n",
    "notcar_features, notcar_hog_image = single_img_features(notcar_image, color_space=color_space, \n",
    "                        spatial_size=spatial_size, hist_bins=hist_bins, \n",
    "                        orient=orient, pix_per_cell=pix_per_cell, \n",
    "                        cell_per_block=cell_per_block, \n",
    "                        hog_channel=hog_channel, spatial_feat=spatial_feat, \n",
    "                        hist_feat=hist_feat, hog_feat=hog_feat, vis=True)\n",
    "\n",
    "images = [car_image, car_hog_image, notcar_image, notcar_hog_image]\n",
    "titles = ['car image', 'car HOG image', 'notcar image', 'notcar HOG image']\n",
    "fig = plt.figure(figsize=(12,3))#, dpi=80)\n",
    "visualize(fig, 1, 4, images, titles)\n",
    "# Save to local disk\n",
    "plt.savefig('output_images/HOG_extraction.png')"
   ]
  },
  {
   "cell_type": "markdown",
   "metadata": {},
   "source": [
    "## Step 3: Build A Classifier"
   ]
  },
  {
   "cell_type": "markdown",
   "metadata": {
    "collapsed": true
   },
   "source": [
    "### 3.1 Extract Feature of all images to prepare for Training"
   ]
  },
  {
   "cell_type": "code",
   "execution_count": null,
   "metadata": {
    "collapsed": true
   },
   "outputs": [],
   "source": [
    "# Define feature parameters\n",
    "color_space = 'YCrCb' # Can be RGB, HSV, LUV, HLS, YUV, YCrCb\n",
    "hog_feat = True # HOG features on or off\n",
    "hog_channel = 'ALL' # Can be 0, 1, 2, or \"ALL\"\n",
    "orient = 9 # HOG orientations\n",
    "pix_per_cell = 8 # HOG pixels per cell\n",
    "cell_per_block = 2 # HOG cells per block\n",
    "hist_feat = True # Histogram features on or off\n",
    "hist_bins = 32 # Number of histogram bins\n",
    "spatial_feat = True # Spatial features on or off\n",
    "spatial_size = (32, 32) # Spatial binning dimensions\n",
    "\n",
    "print('Using:', color_space, 'color space',\n",
    "      orient, 'orientations', pix_per_cell, 'pixels per cell',\n",
    "      cell_per_block, 'cells per block', hog_channel, 'hog channel',\n",
    "      hist_bins, 'histogram bins and', spatial_size, 'spatial sampling')\n",
    "\n",
    "t=time.time()\n",
    "# Reduce the sample size because HOG features are slow to compute\n",
    "sample_size = 4000\n",
    "random_idxs = np.random.randint(0, len(cars), sample_size)\n",
    "test_cars = np.array(cars)[random_idxs]\n",
    "test_notcars = np.array(notcars)[random_idxs]\n",
    "\n",
    "car_features = extract_features(test_cars, color_space=color_space, \n",
    "                        spatial_size=spatial_size, hist_bins=hist_bins, \n",
    "                        orient=orient, pix_per_cell=pix_per_cell, \n",
    "                        cell_per_block=cell_per_block, \n",
    "                        hog_channel=hog_channel, spatial_feat=spatial_feat, \n",
    "                        hist_feat=hist_feat, hog_feat=hog_feat)\n",
    "\n",
    "notcar_features = extract_features(test_notcars, color_space=color_space, \n",
    "                        spatial_size=spatial_size, hist_bins=hist_bins, \n",
    "                        orient=orient, pix_per_cell=pix_per_cell, \n",
    "                        cell_per_block=cell_per_block, \n",
    "                        hog_channel=hog_channel, spatial_feat=spatial_feat, \n",
    "                        hist_feat=hist_feat, hog_feat=hog_feat)\n",
    "\n",
    "print(round(time.time()-t, 2), 'Seconds to extract HOG features of', \\\n",
    "      len(test_cars)+len(test_notcars), 'samples')"
   ]
  },
  {
   "cell_type": "markdown",
   "metadata": {},
   "source": [
    "### 3.2 Create Training and Testing dataset"
   ]
  },
  {
   "cell_type": "markdown",
   "metadata": {},
   "source": [
    "#### 3.2.1 Import library"
   ]
  },
  {
   "cell_type": "code",
   "execution_count": null,
   "metadata": {
    "collapsed": true
   },
   "outputs": [],
   "source": [
    "from sklearn.preprocessing import StandardScaler\n",
    "#from sklearn.cross_validation import train_test_split\n",
    "from sklearn.model_selection import train_test_split"
   ]
  },
  {
   "cell_type": "markdown",
   "metadata": {},
   "source": [
    "#### 3.2.2 Create dataset"
   ]
  },
  {
   "cell_type": "code",
   "execution_count": null,
   "metadata": {
    "collapsed": true
   },
   "outputs": [],
   "source": [
    "t=time.time()\n",
    "# Create an array stack of feature vectors\n",
    "X = np.vstack((car_features, notcar_features)).astype(np.float64)\n",
    "# Fit a per-column scaler\n",
    "X_scaler = StandardScaler().fit(X)\n",
    "# Apply the scaler to X\n",
    "scaled_X = X_scaler.transform(X)\n",
    "\n",
    "# Define the labels vector\n",
    "y = np.hstack((np.ones(len(car_features)), np.zeros(len(notcar_features))))\n",
    "\n",
    "# Split up data into randomized training and test sets\n",
    "rand_state = np.random.randint(0, 100)\n",
    "X_train, X_test, y_train, y_test = train_test_split(\n",
    "    scaled_X, y, test_size=0.2, random_state=rand_state)\n",
    "\n",
    "print('Training data length:', len(y_train))\n",
    "print('Testing data length:', len(y_test))\n",
    "print('Feature vector length:', len(X_train[0]))\n",
    "print(round(time.time()-t, 2), 'Seconds to create dataset')"
   ]
  },
  {
   "cell_type": "markdown",
   "metadata": {},
   "source": [
    "### 3.3 Training with Linear SVC"
   ]
  },
  {
   "cell_type": "markdown",
   "metadata": {},
   "source": [
    "#### 3.3.1 Import library"
   ]
  },
  {
   "cell_type": "code",
   "execution_count": null,
   "metadata": {
    "collapsed": true
   },
   "outputs": [],
   "source": [
    "from sklearn.svm import LinearSVC"
   ]
  },
  {
   "cell_type": "markdown",
   "metadata": {},
   "source": [
    "#### 3.3.2 Training"
   ]
  },
  {
   "cell_type": "code",
   "execution_count": null,
   "metadata": {
    "collapsed": true
   },
   "outputs": [],
   "source": [
    "# Use a linear SVC \n",
    "svc = LinearSVC()\n",
    "# Check the training time for the SVC\n",
    "t=time.time()\n",
    "svc.fit(X_train, y_train)\n",
    "t2 = time.time()\n",
    "print(round(t2-t, 2), 'Seconds to train SVC...')"
   ]
  },
  {
   "cell_type": "markdown",
   "metadata": {},
   "source": [
    "### 3.4 Check the score of the SVC"
   ]
  },
  {
   "cell_type": "code",
   "execution_count": null,
   "metadata": {
    "collapsed": true
   },
   "outputs": [],
   "source": [
    "# Check the score of the SVC\n",
    "print('Test Accuracy of SVC = ', round(svc.score(X_test, y_test), 4))"
   ]
  },
  {
   "cell_type": "markdown",
   "metadata": {},
   "source": [
    "### 3.5 Save Classifier model"
   ]
  },
  {
   "cell_type": "markdown",
   "metadata": {},
   "source": [
    "#### 3.5.1 Import library to work with pickle file"
   ]
  },
  {
   "cell_type": "code",
   "execution_count": null,
   "metadata": {
    "collapsed": true
   },
   "outputs": [],
   "source": [
    "import pickle"
   ]
  },
  {
   "cell_type": "markdown",
   "metadata": {},
   "source": [
    "#### 3.5.2 Define functions"
   ]
  },
  {
   "cell_type": "code",
   "execution_count": null,
   "metadata": {
    "collapsed": true
   },
   "outputs": [],
   "source": [
    "def save_model(file, model, scaler, hog_channel, \\\n",
    "               orient, pix_per_cell, cell_per_block, \\\n",
    "               spatial_size, hist_bins, color_space):\n",
    "    pick = {'model': model,\n",
    "           'scaler': scaler,\n",
    "           'hog_channel': hog_channel,\n",
    "           'orient': orient,\n",
    "           'pix_per_cell': pix_per_cell,\n",
    "           'cell_per_block': cell_per_block,\n",
    "           'spatial_size': spatial_size,\n",
    "           'hist_bins': hist_bins,\n",
    "           'color_space': color_space}\n",
    "    with open(file, 'wb') as f:\n",
    "        pickle.dump(pick, f)\n",
    "\n",
    "def load_model(file):\n",
    "    with open(file, 'rb') as f:\n",
    "        pick = pickle.load(f)\n",
    "        model          = pick['model']\n",
    "        scaler         = pick['scaler']\n",
    "        hog_channel    = pick['hog_channel']\n",
    "        orient         = pick['orient']\n",
    "        pix_per_cell   = pick['pix_per_cell']\n",
    "        cell_per_block = pick['cell_per_block']\n",
    "        spatial_size   = pick['spatial_size']\n",
    "        hist_bins      = pick['hist_bins']\n",
    "        color_space    = pick['color_space']\n",
    "    return model, scaler, hog_channel, \\\n",
    "            orient, pix_per_cell, cell_per_block, \\\n",
    "            spatial_size, hist_bins, color_space"
   ]
  },
  {
   "cell_type": "markdown",
   "metadata": {},
   "source": [
    "#### 3.5.3 Save SVC model"
   ]
  },
  {
   "cell_type": "code",
   "execution_count": null,
   "metadata": {
    "collapsed": true
   },
   "outputs": [],
   "source": [
    "save_model('model.pkl', svc, X_scaler, hog_channel, \\\n",
    "           orient, pix_per_cell, cell_per_block, \\\n",
    "           spatial_size, hist_bins, color_space)"
   ]
  },
  {
   "cell_type": "markdown",
   "metadata": {},
   "source": [
    "#### 3.5.4 Load SVC model"
   ]
  },
  {
   "cell_type": "code",
   "execution_count": null,
   "metadata": {
    "collapsed": true
   },
   "outputs": [],
   "source": [
    "svc, X_scaler, hog_channel, \\\n",
    "orient, pix_per_cell, cell_per_block, \\\n",
    "spatial_size, hist_bins, color_space = load_model('model.pkl')"
   ]
  },
  {
   "cell_type": "markdown",
   "metadata": {
    "collapsed": true
   },
   "source": [
    "## Step 4: Sliding Windows"
   ]
  },
  {
   "cell_type": "markdown",
   "metadata": {},
   "source": [
    "### 4.1 Define Functions"
   ]
  },
  {
   "cell_type": "code",
   "execution_count": null,
   "metadata": {
    "collapsed": true
   },
   "outputs": [],
   "source": [
    "# Define a function that takes an image,\n",
    "# start and stop positions in both x and y, \n",
    "# window size (x and y dimensions),  \n",
    "# and overlap fraction (for both x and y)\n",
    "def slide_window(img, x_start_stop=[None, None], y_start_stop=[None, None], \n",
    "                    xy_window=(64, 64), xy_overlap=(0.5, 0.5)):\n",
    "    # If x and/or y start/stop positions not defined, set to image size\n",
    "    if x_start_stop[0] == None:\n",
    "        x_start_stop[0] = 0\n",
    "    if x_start_stop[1] == None:\n",
    "        x_start_stop[1] = img.shape[1]\n",
    "    if y_start_stop[0] == None:\n",
    "        y_start_stop[0] = 0\n",
    "    if y_start_stop[1] == None:\n",
    "        y_start_stop[1] = img.shape[0]\n",
    "    # Compute the span of the region to be searched    \n",
    "    xspan = x_start_stop[1] - x_start_stop[0]\n",
    "    yspan = y_start_stop[1] - y_start_stop[0]\n",
    "    # Compute the number of pixels per step in x/y\n",
    "    nx_pix_per_step = np.int(xy_window[0]*(1 - xy_overlap[0]))\n",
    "    ny_pix_per_step = np.int(xy_window[1]*(1 - xy_overlap[1]))\n",
    "    # Compute the number of windows in x/y\n",
    "    nx_buffer = np.int(xy_window[0]*(xy_overlap[0]))\n",
    "    ny_buffer = np.int(xy_window[1]*(xy_overlap[1]))\n",
    "    nx_windows = np.int((xspan-nx_buffer)/nx_pix_per_step) \n",
    "    ny_windows = np.int((yspan-ny_buffer)/ny_pix_per_step) \n",
    "    # Initialize a list to append window positions to\n",
    "    window_list = []\n",
    "    # Loop through finding x and y window positions\n",
    "    # Note: you could vectorize this step, but in practice\n",
    "    # you'll be considering windows one by one with your\n",
    "    # classifier, so looping makes sense\n",
    "    for ys in range(ny_windows):\n",
    "        for xs in range(nx_windows):\n",
    "            # Calculate window position\n",
    "            startx = xs*nx_pix_per_step + x_start_stop[0]\n",
    "            endx = startx + xy_window[0]\n",
    "            starty = ys*ny_pix_per_step + y_start_stop[0]\n",
    "            endy = starty + xy_window[1]\n",
    "            \n",
    "            # Append window position to list\n",
    "            window_list.append(((startx, starty), (endx, endy)))\n",
    "    # Return the list of windows\n",
    "    return window_list\n",
    "\n",
    "# Define a function you will pass an image \n",
    "# and the list of windows to be searched (output of slide_windows())\n",
    "def search_windows(img, windows, clf, scaler, color_space='RGB', \n",
    "                    spatial_size=(32, 32), hist_bins=32, \n",
    "                    hist_range=(0, 256), orient=9, \n",
    "                    pix_per_cell=8, cell_per_block=2, \n",
    "                    hog_channel=0, spatial_feat=True, \n",
    "                    hist_feat=True, hog_feat=True):\n",
    "\n",
    "    #1) Create an empty list to receive positive detection windows\n",
    "    on_windows = []\n",
    "\n",
    "    #2) Apply color conversion\n",
    "    img = convert_color(img, color_space=color_space)\n",
    "\n",
    "    #3) Extract HOG features of full img\n",
    "    if hog_feat == True:\n",
    "        # Compute individual channel HOG features for the entire image\n",
    "        hog1 = get_hog_features(img[:,:,0], orient, pix_per_cell, cell_per_block, feature_vec=False)\n",
    "        hog2 = get_hog_features(img[:,:,1], orient, pix_per_cell, cell_per_block, feature_vec=False)\n",
    "        hog3 = get_hog_features(img[:,:,2], orient, pix_per_cell, cell_per_block, feature_vec=False)\n",
    "\n",
    "    #4) Iterate over all windows in the list\n",
    "    for window in windows:\n",
    "        #4.1) Define an empty list to receive features\n",
    "        sample_features = []\n",
    "        #4.2.1) Extract the image patch\n",
    "        subimg = img[window[0][1]:window[1][1], window[0][0]:window[1][0]]\n",
    "        #4.2.2) Get color features\n",
    "        if spatial_feat == True:\n",
    "            spatial_features = bin_spatial(subimg, size=spatial_size)\n",
    "            sample_features.append(spatial_features)\n",
    "        if hist_feat == True:\n",
    "            hist_features = color_hist(subimg, nbins=hist_bins, bins_range=hist_range)\n",
    "            sample_features.append(hist_features)\n",
    "        #4.2.3) HOG feature\n",
    "        if hog_feat == True:\n",
    "            sampling_rate = 64\n",
    "            nblocks_per_window = (sampling_rate // pix_per_cell) - cell_per_block + 1\n",
    "            xpos = window[0][0]//pix_per_cell\n",
    "            ypos = window[0][1]//pix_per_cell\n",
    "\n",
    "            if hog_channel == 0:\n",
    "                hog_features = hog1[ypos:ypos+nblocks_per_window, xpos:xpos+nblocks_per_window].ravel()\n",
    "            elif hog_channel == 1:\n",
    "                hog_features = hog2[ypos:ypos+nblocks_per_window, xpos:xpos+nblocks_per_window].ravel()\n",
    "            elif hog_channel == 2:\n",
    "                hog_features = hog3[ypos:ypos+nblocks_per_window, xpos:xpos+nblocks_per_window].ravel()\n",
    "            elif hog_channel == 'ALL':\n",
    "                hog_feat1 = hog1[ypos:ypos+nblocks_per_window, xpos:xpos+nblocks_per_window].ravel()\n",
    "                hog_feat2 = hog2[ypos:ypos+nblocks_per_window, xpos:xpos+nblocks_per_window].ravel()\n",
    "                hog_feat3 = hog3[ypos:ypos+nblocks_per_window, xpos:xpos+nblocks_per_window].ravel()\n",
    "                hog_features = np.hstack((hog_feat1, hog_feat2, hog_feat3))\n",
    "            else:\n",
    "                hog_features = []\n",
    "            sample_features.append(hog_features)\n",
    "        #5) Scale extracted features to be fed to classifier\n",
    "        test_features = scaler.transform(np.concatenate(sample_features))\n",
    "        #6) Predict using your classifier\n",
    "        prediction = clf.predict(test_features)\n",
    "        #7) If positive (prediction == 1) then save the window\n",
    "        if prediction == 1:\n",
    "            on_windows.append(window)\n",
    "\n",
    "    #8) Return windows for positive detections\n",
    "    return on_windows\n",
    "\n",
    "def ori_search_windows(img, windows, clf, scaler, color_space='RGB', \n",
    "                    spatial_size=(32, 32), hist_bins=32, \n",
    "                    hist_range=(0, 256), orient=9, \n",
    "                    pix_per_cell=8, cell_per_block=2, \n",
    "                    hog_channel=0, spatial_feat=True, \n",
    "                    hist_feat=True, hog_feat=True):\n",
    "\n",
    "    #1) Create an empty list to receive positive detection windows\n",
    "    on_windows = []\n",
    "    #2) Iterate over all windows in the list\n",
    "    for window in windows:\n",
    "        #3) Extract the test window from original image\n",
    "        test_img = cv2.resize(img[window[0][1]:window[1][1], window[0][0]:window[1][0]], (64, 64))      \n",
    "        #4) Extract features for that window using single_img_features()\n",
    "        features = single_img_features(test_img, color_space=color_space, \n",
    "                            spatial_size=spatial_size, hist_bins=hist_bins, \n",
    "                            orient=orient, pix_per_cell=pix_per_cell, \n",
    "                            cell_per_block=cell_per_block, \n",
    "                            hog_channel=hog_channel, spatial_feat=spatial_feat, \n",
    "                            hist_feat=hist_feat, hog_feat=hog_feat)\n",
    "        #5) Scale extracted features to be fed to classifier\n",
    "        test_features = scaler.transform(np.array(features).reshape(1, -1))\n",
    "        #6) Predict using your classifier\n",
    "        prediction = clf.predict(test_features)\n",
    "        #7) If positive (prediction == 1) then save the window\n",
    "        if prediction == 1:\n",
    "            on_windows.append(window)\n",
    "    #8) Return windows for positive detections\n",
    "    return on_windows\n",
    "\n",
    "# Define a function to draw bounding boxes\n",
    "def draw_boxes(img, bboxes, color=(0, 0, 255), thick=6):\n",
    "    # Make a copy of the image\n",
    "    imcopy = np.copy(img)\n",
    "    # Iterate through the bounding boxes\n",
    "    for bbox in bboxes:\n",
    "        # Draw a rectangle given bbox coordinates\n",
    "        cv2.rectangle(imcopy, bbox[0], bbox[1], color, thick)\n",
    "    # Return the image copy with boxes drawn\n",
    "    return imcopy"
   ]
  },
  {
   "cell_type": "markdown",
   "metadata": {},
   "source": [
    "### 4.2 Test"
   ]
  },
  {
   "cell_type": "code",
   "execution_count": null,
   "metadata": {
    "scrolled": false
   },
   "outputs": [],
   "source": [
    "test_image_path = 'test_images/serial_test/'\n",
    "test_images = glob.glob(test_image_path+'*.jpg')\n",
    "images = []\n",
    "titles = []\n",
    "y_start_stop = [400, 656]\n",
    "overlap = 0.5\n",
    "spatial_feat = True\n",
    "hist_feat = True\n",
    "hog_feat = True\n",
    "\n",
    "for img_src in test_images:\n",
    "    t1 = time.time()\n",
    "    img = mpimg.imread(img_src)\n",
    "    copy_img = np.copy(img)\n",
    "    # Scaled image\n",
    "    # Training: mpimg.imread png (0-1)\n",
    "    #           cv2.imread() (0-255)\n",
    "    # Using:    mpimg.imread jpg (0-255)\n",
    "    img = img.astype(np.float32)/255\n",
    "\n",
    "    windows = slide_window(img, x_start_stop=[None, None], y_start_stop=y_start_stop, \n",
    "                    xy_window=(80, 80), xy_overlap=(overlap, overlap))\n",
    "\n",
    "    hot_windows = ori_search_windows(img, windows, svc, X_scaler, color_space=color_space, \n",
    "                        spatial_size=spatial_size, hist_bins=hist_bins, \n",
    "                        orient=orient, pix_per_cell=pix_per_cell, \n",
    "                        cell_per_block=cell_per_block, \n",
    "                        hog_channel=hog_channel, spatial_feat=spatial_feat, \n",
    "                        hist_feat=hist_feat, hog_feat=hog_feat)\n",
    "\n",
    "    sliding_img = draw_boxes(copy_img, windows, color=(0, 0, 255), thick=6)\n",
    "    window_img = draw_boxes(copy_img, hot_windows, color=(0, 0, 255), thick=6)\n",
    "    images.append(sliding_img)\n",
    "    images.append(window_img)\n",
    "    titles.append('sliding')\n",
    "    titles.append('searching')\n",
    "    print(time.time()-t1, 'seconds to process one image searching', len(windows), 'windows')\n",
    "\n",
    "cv2.imwrite('output_images/sliding_windows.png', cv2.cvtColor(images[0], cv2.COLOR_RGB2BGR))\n",
    "fig = plt.figure(figsize=(15,30))#, dpi=300)\n",
    "visualize(fig, 10, 2, images, titles)\n",
    "fig.tight_layout()\n",
    "# Save to local disk\n",
    "plt.savefig('output_images/sliding_window.png')"
   ]
  },
  {
   "cell_type": "markdown",
   "metadata": {},
   "source": [
    "## Step 5: False Positives"
   ]
  },
  {
   "cell_type": "markdown",
   "metadata": {},
   "source": [
    "### 5.1 Import library"
   ]
  },
  {
   "cell_type": "code",
   "execution_count": null,
   "metadata": {
    "collapsed": true
   },
   "outputs": [],
   "source": [
    "from scipy.ndimage.measurements import label\n",
    "from collections import deque"
   ]
  },
  {
   "cell_type": "markdown",
   "metadata": {},
   "source": [
    "### 5.2 Define Functions"
   ]
  },
  {
   "cell_type": "code",
   "execution_count": null,
   "metadata": {
    "collapsed": true
   },
   "outputs": [],
   "source": [
    "def add_heat(heatmap, bbox_list):\n",
    "    # Iterate through list of bboxes\n",
    "    for box in bbox_list:\n",
    "        # Add += 1 for all pixels inside each bbox\n",
    "        # Assuming each \"box\" takes the form ((x1, y1), (x2, y2))\n",
    "        heatmap[box[0][1]:box[1][1], box[0][0]:box[1][0]] += 1\n",
    "    # Return updated heatmap\n",
    "    return heatmap# Iterate through list of bboxes\n",
    "\n",
    "def apply_threshold(heatmap, threshold):\n",
    "    # Zero out pixels below the threshold\n",
    "    heatmap[heatmap <= threshold] = 0\n",
    "    # Return thresholded map\n",
    "    return heatmap\n",
    "\n",
    "def draw_labeled_bboxes(img, labels, ystart):\n",
    "    # Iterate through all detected cars\n",
    "    for car_number in range(1, labels[1]+1):\n",
    "        # Find pixels with each car_number label value\n",
    "        nonzero = (labels[0] == car_number).nonzero()\n",
    "        # Identify x and y values of those pixels\n",
    "        nonzeroy = np.array(nonzero[0])\n",
    "        nonzerox = np.array(nonzero[1])\n",
    "        if (np.min(nonzeroy) < ystart+32): # check ymin\n",
    "            # Define a bounding box based on min/max x and y\n",
    "            bbox = ((np.min(nonzerox), np.min(nonzeroy)), (np.max(nonzerox), np.max(nonzeroy)))\n",
    "            if (bbox[1][0]-bbox[0][0] >= bbox[1][1]-bbox[0][1]): # width >= height\n",
    "                # Draw the box on the image\n",
    "                cv2.rectangle(img, bbox[0], bbox[1], (0,0,255), 6)\n",
    "    # Return the image\n",
    "    return img\n",
    "\n",
    "def pipeline_heatmap(img, box_list, ystart):\n",
    "\n",
    "    heat = np.zeros_like(img[:,:,0]).astype(np.float)\n",
    "\n",
    "    # Add heat to each box in box list\n",
    "    heat = add_heat(heat,box_list)\n",
    "    heatmap_queue.append(heat)\n",
    "\n",
    "    # Apply threshold to help remove false positives\n",
    "    heat = np.sum(heatmap_queue, dtype=np.uint8, axis=(0))\n",
    "    threshold = max(np.concatenate(heat).ravel())*0.55 # Reduce detection result to reduce noise\n",
    "    heat = apply_threshold(heat, threshold)\n",
    "\n",
    "    # Visualize the heatmap when displaying    \n",
    "    heatmap = np.clip(heat, 0, 255)\n",
    "\n",
    "    # Find final boxes from heatmap using label function\n",
    "    labels = label(heatmap)\n",
    "    draw_img = draw_labeled_bboxes(np.copy(img), labels, ystart)\n",
    "\n",
    "    return draw_img, heatmap"
   ]
  },
  {
   "cell_type": "markdown",
   "metadata": {
    "collapsed": true
   },
   "source": [
    "### 5.3 Test"
   ]
  },
  {
   "cell_type": "code",
   "execution_count": null,
   "metadata": {
    "scrolled": false
   },
   "outputs": [],
   "source": [
    "test_image_path = 'test_images/serial_test/'\n",
    "test_images = glob.glob(test_image_path+'*.jpg')\n",
    "images = []\n",
    "titles = []\n",
    "\n",
    "y_start = 400\n",
    "y_stop = 656\n",
    "overlap = 0.5\n",
    "spatial_feat = True\n",
    "hist_feat = True\n",
    "hog_feat = True\n",
    "heatmap_queue = deque(maxlen=10)\n",
    "\n",
    "for img_src in test_images:\n",
    "    t1 = time.time()\n",
    "    img = mpimg.imread(img_src)\n",
    "    copy_img = np.copy(img)\n",
    "    img = img.astype(np.float32)/255\n",
    "\n",
    "    windows = slide_window(img, x_start_stop=[None, None], y_start_stop=[y_start, y_stop], \n",
    "                    xy_window=(80, 80), xy_overlap=(overlap, overlap))\n",
    "\n",
    "    hot_windows = ori_search_windows(img, windows, svc, X_scaler, color_space=color_space, \n",
    "                        spatial_size=spatial_size, hist_bins=hist_bins, \n",
    "                        orient=orient, pix_per_cell=pix_per_cell, \n",
    "                        cell_per_block=cell_per_block, \n",
    "                        hog_channel=hog_channel, spatial_feat=spatial_feat, \n",
    "                        hist_feat=hist_feat, hog_feat=hog_feat)\n",
    "\n",
    "    window_img = draw_boxes(copy_img, hot_windows, color=(0, 0, 255), thick=6)\n",
    "    draw_img, heatmap = pipeline_heatmap(copy_img, hot_windows, y_start)\n",
    "\n",
    "    images.append(window_img)\n",
    "    images.append(heatmap)\n",
    "    images.append(draw_img)\n",
    "    titles.append('windows')\n",
    "    titles.append('heatmap')\n",
    "    titles.append('draw')\n",
    "    print(time.time()-t1, 'seconds to process one image searching', len(windows), 'windows')\n",
    "\n",
    "cv2.imwrite('output_images/labels_map.png', cv2.cvtColor(images[-2]*(255//images[-2].max()), cv2.COLOR_GRAY2BGR))\n",
    "cv2.imwrite('output_images/output_bboxes.png', cv2.cvtColor(images[-1], cv2.COLOR_RGB2BGR))\n",
    "fig = plt.figure(figsize=(20,30))#, dpi=300)\n",
    "visualize(fig, 10, 3, images, titles)\n",
    "fig.tight_layout()\n",
    "# Save to local disk\n",
    "plt.savefig('output_images/false_positives.png')"
   ]
  },
  {
   "cell_type": "markdown",
   "metadata": {},
   "source": [
    "## Step 6: Combine results"
   ]
  },
  {
   "cell_type": "markdown",
   "metadata": {},
   "source": [
    "### 6.1 Import library for using PIL Image"
   ]
  },
  {
   "cell_type": "code",
   "execution_count": null,
   "metadata": {
    "collapsed": true
   },
   "outputs": [],
   "source": [
    "from PIL import Image"
   ]
  },
  {
   "cell_type": "markdown",
   "metadata": {},
   "source": [
    "### 6.2 Define functions"
   ]
  },
  {
   "cell_type": "code",
   "execution_count": null,
   "metadata": {
    "collapsed": true
   },
   "outputs": [],
   "source": [
    "def heatmap2rgb(heatmap):\n",
    "    heatmap *= (255//heatmap.max())\n",
    "    cmap = plt.get_cmap('jet')\n",
    "    rgba_img = cmap(heatmap)\n",
    "    rgb_img = (np.delete(rgba_img, 3, 2)*255).astype('uint8')\n",
    "    return rgb_img\n",
    "\n",
    "def PIL2array(img):\n",
    "    return np.array(img.getdata(),\n",
    "                    np.uint8).reshape(img.size[1], img.size[0], 3)\n",
    "\n",
    "def combine_img(child_img_1, child_img_2, parent_img, offset=20):\n",
    "\n",
    "    img_shape = parent_img.shape\n",
    "    # Create output image to add 2 child images\n",
    "    output_img = Image.fromarray(parent_img)\n",
    "    # Resize 2 child images before combining\n",
    "    small_img_1 = cv2.resize(child_img_1, \n",
    "                             (img_shape[1]//2-2*offset, img_shape[0]//2-2*offset), \n",
    "                             interpolation=cv2.INTER_LINEAR)\n",
    "    small_img_2 = cv2.resize(child_img_2, \n",
    "                             (img_shape[1]//2-2*offset, img_shape[0]//2-2*offset), \n",
    "                             interpolation=cv2.INTER_LINEAR)\n",
    "    # Adding 2 child images\n",
    "    output_img.paste(Image.fromarray(small_img_1), (offset, offset))\n",
    "    output_img.paste(Image.fromarray(small_img_2), (img_shape[1]//2+offset, offset))\n",
    "\n",
    "    return PIL2array(output_img)"
   ]
  },
  {
   "cell_type": "markdown",
   "metadata": {},
   "source": [
    "### 6.3 Test"
   ]
  },
  {
   "cell_type": "code",
   "execution_count": null,
   "metadata": {},
   "outputs": [],
   "source": [
    "y_start = 400\n",
    "y_stop = 656\n",
    "overlap = 0.5\n",
    "spatial_feat = True\n",
    "hist_feat = True\n",
    "hog_feat = True\n",
    "heatmap_queue = deque(maxlen=10)\n",
    "\n",
    "t1 = time.time()\n",
    "img = mpimg.imread('test_images/test1.jpg')\n",
    "copy_img = np.copy(img)\n",
    "img = img.astype(np.float32)/255\n",
    "\n",
    "windows = slide_window(img, x_start_stop=[None, None], y_start_stop=[y_start, y_stop], \n",
    "                xy_window=(80, 80), xy_overlap=(overlap, overlap))\n",
    "\n",
    "hot_windows = search_windows(img, windows, svc, X_scaler, color_space=color_space, \n",
    "                    spatial_size=spatial_size, hist_bins=hist_bins, \n",
    "                    orient=orient, pix_per_cell=pix_per_cell, \n",
    "                    cell_per_block=cell_per_block, \n",
    "                    hog_channel=hog_channel, spatial_feat=spatial_feat, \n",
    "                    hist_feat=hist_feat, hog_feat=hog_feat)\n",
    "\n",
    "window_img = draw_boxes(copy_img, hot_windows, color=(0, 0, 255), thick=6)\n",
    "draw_img, heatmap = pipeline_heatmap(copy_img, hot_windows, y_start)\n",
    "\n",
    "print(time.time()-t1, 'seconds to process one image searching', len(windows), 'windows')\n",
    "\n",
    "out = combine_img(window_img, heatmap2rgb(heatmap), draw_img, 20)\n",
    "plt.figure(figsize=(10,5))\n",
    "plt.imshow(out)\n",
    "# Save to local disk\n",
    "plt.savefig('output_images/combining.png')"
   ]
  },
  {
   "cell_type": "markdown",
   "metadata": {},
   "source": [
    "## Step 7: Tracking Pipeline"
   ]
  },
  {
   "cell_type": "code",
   "execution_count": null,
   "metadata": {
    "collapsed": true
   },
   "outputs": [],
   "source": [
    "def process_image(img):\n",
    "\n",
    "    copy_img = np.copy(img)\n",
    "    img = img.astype(np.float32)/255\n",
    "\n",
    "    windows = slide_window(img, x_start_stop=[None, None], y_start_stop=[y_start, y_stop], \n",
    "                    xy_window=(80, 80), xy_overlap=(overlap, overlap))\n",
    "\n",
    "    hot_windows = ori_search_windows(img, windows, svc, X_scaler, color_space=color_space, \n",
    "                        spatial_size=spatial_size, hist_bins=hist_bins, \n",
    "                        orient=orient, pix_per_cell=pix_per_cell, \n",
    "                        cell_per_block=cell_per_block, \n",
    "                        hog_channel=hog_channel, spatial_feat=spatial_feat, \n",
    "                        hist_feat=hist_feat, hog_feat=hog_feat)\n",
    "\n",
    "    window_img = draw_boxes(copy_img, hot_windows, color=(0, 0, 255), thick=6)\n",
    "    draw_img, heatmap = pipeline_heatmap(copy_img, hot_windows, y_start)\n",
    "\n",
    "    return combine_img(window_img, heatmap2rgb(heatmap), draw_img, 20)"
   ]
  },
  {
   "cell_type": "markdown",
   "metadata": {},
   "source": [
    "## Step 8: Video Implementation"
   ]
  },
  {
   "cell_type": "markdown",
   "metadata": {},
   "source": [
    "### 8.1 Import library"
   ]
  },
  {
   "cell_type": "code",
   "execution_count": null,
   "metadata": {
    "collapsed": true
   },
   "outputs": [],
   "source": [
    "from moviepy.editor import VideoFileClip\n",
    "from IPython.display import HTML"
   ]
  },
  {
   "cell_type": "markdown",
   "metadata": {},
   "source": [
    "### 8.2 Create Serial frame Test from Video"
   ]
  },
  {
   "cell_type": "code",
   "execution_count": null,
   "metadata": {},
   "outputs": [],
   "source": [
    "clip = VideoFileClip('project_video.mp4').subclip(15, 20)\n",
    "for i in range(0, 10, 1):\n",
    "    clip.save_frame('test_images/serial_test/frame_%d.jpg' %i, t=i/10)"
   ]
  },
  {
   "cell_type": "markdown",
   "metadata": {},
   "source": [
    "### 8.3 Test Video"
   ]
  },
  {
   "cell_type": "code",
   "execution_count": null,
   "metadata": {},
   "outputs": [],
   "source": [
    "output_path = 'output_videos/'\n",
    "video_input = 'test_video.mp4'\n",
    "\n",
    "y_start = 400\n",
    "y_stop = 656\n",
    "overlap = 0.5\n",
    "spatial_feat = True\n",
    "hist_feat = True\n",
    "hog_feat = True\n",
    "heatmap_queue = deque(maxlen=10)\n",
    "\n",
    "clip = VideoFileClip('test_video.mp4')\n",
    "test_clip = clip.fl_image(process_image)\n",
    "#%time\n",
    "test_clip.write_videofile(output_path+video_input, audio=False)"
   ]
  },
  {
   "cell_type": "code",
   "execution_count": null,
   "metadata": {},
   "outputs": [],
   "source": [
    "HTML(\"\"\"\n",
    "<video width=\"960\" height=\"540\" controls>\n",
    "  <source src=\"{0}\">\n",
    "</video>\n",
    "\"\"\".format(output_path+video_input))"
   ]
  },
  {
   "cell_type": "markdown",
   "metadata": {},
   "source": [
    "### 8.4 Project Video"
   ]
  },
  {
   "cell_type": "code",
   "execution_count": null,
   "metadata": {
    "collapsed": true
   },
   "outputs": [],
   "source": [
    "output_path = 'output_videos/'\n",
    "video_input = 'project_video.mp4'\n",
    "\n",
    "y_start = 400\n",
    "y_stop = 656\n",
    "overlap = 0.5\n",
    "spatial_feat = True\n",
    "hist_feat = True\n",
    "hog_feat = True\n",
    "heatmap_queue = deque(maxlen=10)\n",
    "\n",
    "clip = VideoFileClip('project_video.mp4')\n",
    "test_clip = clip.fl_image(process_image)\n",
    "#%time\n",
    "test_clip.write_videofile(output_path+video_input, audio=False)"
   ]
  },
  {
   "cell_type": "code",
   "execution_count": null,
   "metadata": {
    "collapsed": true
   },
   "outputs": [],
   "source": [
    "HTML(\"\"\"\n",
    "<video width=\"960\" height=\"540\" controls>\n",
    "  <source src=\"{0}\">\n",
    "</video>\n",
    "\"\"\".format(output_path+video_input))"
   ]
  },
  {
   "cell_type": "code",
   "execution_count": null,
   "metadata": {
    "collapsed": true
   },
   "outputs": [],
   "source": []
  }
 ],
 "metadata": {
  "anaconda-cloud": {},
  "kernelspec": {
   "display_name": "Python 3",
   "language": "python",
   "name": "python3"
  },
  "language_info": {
   "codemirror_mode": {
    "name": "ipython",
    "version": 3
   },
   "file_extension": ".py",
   "mimetype": "text/x-python",
   "name": "python",
   "nbconvert_exporter": "python",
   "pygments_lexer": "ipython3",
   "version": "3.5.2"
  },
  "widgets": {
   "state": {},
   "version": "1.1.2"
  }
 },
 "nbformat": 4,
 "nbformat_minor": 1
}
