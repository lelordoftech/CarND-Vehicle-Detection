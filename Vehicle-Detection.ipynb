{
 "cells": [
  {
   "cell_type": "markdown",
   "metadata": {},
   "source": [
    "## Vehicle Detection and Tracking Project\n",
    "\n",
    "The goals / steps of this project are the following:\n",
    "\n",
    "* Decide what feature to use: combination of color and gradient based features.\n",
    "* Choose and train a classifier: linear SVM...\n",
    "* Implement a sliding window technique to search for vehicles in some test images: Multiscale search/Different tiling schemes.\n",
    "* Minimize the number of search windows.\n",
    "* Do not need to search for cars in the sky and the treetops.\n",
    "* Output visual display of the vehicle boundaries."
   ]
  },
  {
   "cell_type": "markdown",
   "metadata": {
    "collapsed": true
   },
   "source": [
    "## Import library"
   ]
  },
  {
   "cell_type": "code",
   "execution_count": null,
   "metadata": {
    "collapsed": true
   },
   "outputs": [],
   "source": [
    "import matplotlib.image as mpimg\n",
    "import matplotlib.pyplot as plt\n",
    "# Visualizations will be shown in the notebook.\n",
    "%matplotlib inline\n",
    "import numpy as np\n",
    "import cv2\n",
    "import glob\n",
    "import time\n",
    "from sklearn.utils import shuffle\n",
    "from sklearn.linear_model import SGDClassifier\n",
    "from sklearn.preprocessing import StandardScaler\n",
    "from skimage.feature import hog\n",
    "from lesson_functions import *\n",
    "# NOTE: the next import is only valid for scikit-learn version <= 0.17\n",
    "# for scikit-learn >= 0.18 use:\n",
    "from sklearn.model_selection import train_test_split\n",
    "#from sklearn.cross_validation import train_test_split\n",
    "\n",
    "import os\n",
    "import pickle\n",
    "from scipy.ndimage.measurements import label\n",
    "\n",
    "from moviepy.editor import VideoFileClip\n",
    "from IPython.display import HTML"
   ]
  },
  {
   "cell_type": "markdown",
   "metadata": {},
   "source": [
    "## Training SGDClassifier"
   ]
  },
  {
   "cell_type": "markdown",
   "metadata": {},
   "source": [
    "### Read in cars and notcars"
   ]
  },
  {
   "cell_type": "code",
   "execution_count": null,
   "metadata": {
    "collapsed": true
   },
   "outputs": [],
   "source": [
    "cars = []\n",
    "notcars = []\n",
    "for file in os.listdir('dataset/vehicles'):\n",
    "    cars += glob.glob('dataset/vehicles/'+file+'/*.png')\n",
    "for file in os.listdir('dataset/non-vehicles'):\n",
    "    notcars += glob.glob('dataset/non-vehicles/'+file+'/*.png')\n",
    "\n",
    "# Plot in notebook\n",
    "image_car = mpimg.imread(cars[0])\n",
    "image_noncar = mpimg.imread(notcars[0])\n",
    "f, (ax1, ax2) = plt.subplots(1, 2, figsize=(10, 5))\n",
    "f.tight_layout()\n",
    "ax1.imshow(image_car)\n",
    "ax1.set_title('Car Image', fontsize=20)\n",
    "ax2.imshow(image_noncar)\n",
    "ax2.set_title('Non Car Image', fontsize=20)\n",
    "plt.subplots_adjust(left=0.1, right=0.9, top=0.9, bottom=0.)\n",
    "# Save to local disk\n",
    "plt.savefig('output_images/car_noncar_image.png')"
   ]
  },
  {
   "cell_type": "markdown",
   "metadata": {},
   "source": [
    "### Define dataset"
   ]
  },
  {
   "cell_type": "code",
   "execution_count": null,
   "metadata": {
    "collapsed": true
   },
   "outputs": [],
   "source": [
    "# Limit data for test\n",
    "#cars = cars[:2560]\n",
    "#notcars = notcars[:2560]"
   ]
  },
  {
   "cell_type": "code",
   "execution_count": null,
   "metadata": {
    "collapsed": true
   },
   "outputs": [],
   "source": [
    "# Check the time\n",
    "t=time.time()\n",
    "# Define the paths vector\n",
    "dataset_paths = np.hstack((cars, notcars))\n",
    "# Define the labels vector\n",
    "dataset_labels = np.hstack((np.ones(len(cars)), np.zeros(len(notcars))))\n",
    "# Define dataset\n",
    "dataset = np.vstack((dataset_paths, dataset_labels)).T\n",
    "t2 = time.time()\n",
    "print(round(t2-t, 2), 'Seconds to Define the dataset...')\n",
    "print('Dataset size =', dataset.shape)"
   ]
  },
  {
   "cell_type": "markdown",
   "metadata": {},
   "source": [
    "### Split up data into randomized training and validation sets"
   ]
  },
  {
   "cell_type": "code",
   "execution_count": null,
   "metadata": {
    "collapsed": true
   },
   "outputs": [],
   "source": [
    "# Check the time\n",
    "t=time.time()\n",
    "# Split up data into randomized training and test sets\n",
    "rand_state = np.random.randint(0, 100)\n",
    "dataset_train, dataset_valid = train_test_split(\n",
    "    dataset, test_size=0.2, random_state=rand_state)\n",
    "t2 = time.time()\n",
    "print(round(t2-t, 2), 'Seconds to Split up data into randomized training and test sets...')\n",
    "print('Training Dataset size =', dataset_train.shape)\n",
    "print('Validation Dataset size =', dataset_valid.shape)"
   ]
  },
  {
   "cell_type": "code",
   "execution_count": null,
   "metadata": {
    "collapsed": true
   },
   "outputs": [],
   "source": [
    "color_space = 'YCrCb' # Can be RGB, HSV, LUV, HLS, YUV, YCrCb\n",
    "\n",
    "spatial_feat = True # Spatial features on or off\n",
    "spatial_size = (32, 32) # Spatial binning dimensions\n",
    "\n",
    "hist_feat = True # Histogram features on or off\n",
    "hist_bins = 32    # Number of histogram bins\n",
    "\n",
    "hog_feat = True # HOG features on or off\n",
    "hog_channel = 'ALL' # Can be 0, 1, 2, or \"ALL\"\n",
    "orient = 9  # HOG orientations\n",
    "pix_per_cell = 8 # HOG pixels per cell\n",
    "cell_per_block = 2 # HOG cells per block\n",
    "\n",
    "X_scaler = None # Global Scaler for prediction\n",
    "\n",
    "print('Using:',orient,'orientations',pix_per_cell,\n",
    "    'pixels per cell and', cell_per_block,'cells per block')"
   ]
  },
  {
   "cell_type": "code",
   "execution_count": null,
   "metadata": {
    "collapsed": true
   },
   "outputs": [],
   "source": [
    "def generator(dataset, batch_size=1024):\n",
    "\n",
    "    global X_scaler\n",
    "\n",
    "    num_samples = len(dataset)\n",
    "\n",
    "    dataset = shuffle(dataset)\n",
    "    dataset_paths = dataset.T[0]\n",
    "    dataset_labels = dataset.T[1]\n",
    "\n",
    "    for offset in range(0, num_samples, batch_size):\n",
    "\n",
    "        batch_paths = dataset_paths[offset:offset+batch_size]\n",
    "        batch_labels = dataset_labels[offset:offset+batch_size].reshape(-1).astype(np.float64)\n",
    "        batch_id = str(offset//batch_size+1)+'/'+str(int(round(num_samples/batch_size+0.5, 0)))\n",
    "\n",
    "        # Extract Car/Non-Car features\n",
    "        dataset_features = extract_features(batch_paths, \n",
    "                        batch_id, \n",
    "                        color_space=color_space, \n",
    "                        spatial_size=spatial_size, hist_bins=hist_bins, \n",
    "                        orient=orient, pix_per_cell=pix_per_cell, \n",
    "                        cell_per_block=cell_per_block, \n",
    "                        hog_channel=hog_channel, spatial_feat=spatial_feat, \n",
    "                        hist_feat=hist_feat, hog_feat=hog_feat)\n",
    "\n",
    "        # Create an array stack of feature vectors\n",
    "        X = np.array(dataset_features, dtype=np.float64)\n",
    "\n",
    "        # Fit a per-column scaler\n",
    "        # Just need to do it only onetime\n",
    "        if (X_scaler == None):\n",
    "            X_scaler = StandardScaler().fit(X)\n",
    "\n",
    "        # Apply the scaler to X\n",
    "        scaled_X = X_scaler.transform(X)\n",
    "\n",
    "        yield shuffle(scaled_X, batch_labels)"
   ]
  },
  {
   "cell_type": "code",
   "execution_count": null,
   "metadata": {
    "collapsed": true
   },
   "outputs": [],
   "source": [
    "### Create training set and validation set\n",
    "train_generator = generator(dataset_train, batch_size=4096)\n",
    "validation_generator = generator(dataset_valid, batch_size=4096)"
   ]
  },
  {
   "cell_type": "code",
   "execution_count": null,
   "metadata": {
    "collapsed": true
   },
   "outputs": [],
   "source": [
    "'''\n",
    "# Check the time\n",
    "t=time.time()\n",
    "car_ind = np.random.randint(0, len(cars))\n",
    "# Plot an example of raw and scaled features\n",
    "fig = plt.figure(figsize=(12,4))\n",
    "plt.subplot(131)\n",
    "plt.imshow(mpimg.imread(cars[car_ind]))\n",
    "plt.title('Original Image')\n",
    "plt.subplot(132)\n",
    "plt.plot(X[car_ind])\n",
    "plt.title('Raw Features')\n",
    "plt.subplot(133)\n",
    "plt.plot(scaled_X[car_ind])\n",
    "plt.title('Normalized Features')\n",
    "fig.tight_layout()\n",
    "t2 = time.time()\n",
    "print(round(t2-t, 2), 'Seconds to Plot an example of raw and scaled features...')\n",
    "'''"
   ]
  },
  {
   "cell_type": "markdown",
   "metadata": {},
   "source": [
    "### Use SGDClassifier"
   ]
  },
  {
   "cell_type": "markdown",
   "metadata": {},
   "source": [
    "#### Training"
   ]
  },
  {
   "cell_type": "code",
   "execution_count": null,
   "metadata": {
    "collapsed": true,
    "scrolled": true
   },
   "outputs": [],
   "source": [
    "model = SGDClassifier(n_iter=1, verbose=0, n_jobs=4) # Use partial_fit so n_iter=1\n",
    "\n",
    "# Train model\n",
    "for feature_gen, label_gen in train_generator:\n",
    "    model.partial_fit(feature_gen, label_gen, classes=np.unique(label_gen))"
   ]
  },
  {
   "cell_type": "markdown",
   "metadata": {},
   "source": [
    "#### Validation"
   ]
  },
  {
   "cell_type": "code",
   "execution_count": null,
   "metadata": {
    "collapsed": true
   },
   "outputs": [],
   "source": [
    "# Check the score of the SGDClassifier\n",
    "X_valid = []\n",
    "y_valid = []\n",
    "for feature_gen, label_gen in validation_generator:\n",
    "    X_valid.append(feature_gen)\n",
    "    y_valid.append(label_gen)"
   ]
  },
  {
   "cell_type": "code",
   "execution_count": null,
   "metadata": {
    "collapsed": true
   },
   "outputs": [],
   "source": [
    "X_valid = np.array(X_valid)\n",
    "num_of_feature = X_valid[0].shape[-1] # Number of feature in 1 frame\n",
    "X_valid = np.concatenate(X_valid).ravel().reshape(-1, num_of_feature)\n",
    "y_valid = np.concatenate(y_valid).ravel()\n",
    "print('X_valid dimention = ', X_valid.shape)\n",
    "print('y_valid dimention = ', y_valid.shape)\n",
    "print('Test Accuracy of SGDClassifier = ', round(model.score(X_valid, y_valid), 4))"
   ]
  },
  {
   "cell_type": "markdown",
   "metadata": {},
   "source": [
    "#### Check prediction"
   ]
  },
  {
   "cell_type": "code",
   "execution_count": null,
   "metadata": {
    "collapsed": true
   },
   "outputs": [],
   "source": [
    "# Check the prediction time for a single sample\n",
    "t=time.time()\n",
    "n_predict = 1000\n",
    "y_pred = model.predict(X_valid[0:n_predict])\n",
    "#print('My SGDClassifier predicts:', y_pred)\n",
    "#print('For these', n_predict, 'labels:      ', y_valid[0:n_predict])\n",
    "t2 = time.time()\n",
    "print(round(t2-t, 5), 'Seconds to predict', n_predict,'labels with SGDClassifier')\n",
    "\n",
    "accuracy = np.sum(y_pred == y_valid[0:n_predict]) * 100 / n_predict\n",
    "print(\"Accuracy = %d%%\" % accuracy)"
   ]
  },
  {
   "cell_type": "markdown",
   "metadata": {},
   "source": [
    "#### Save model Classifier"
   ]
  },
  {
   "cell_type": "code",
   "execution_count": null,
   "metadata": {
    "collapsed": true
   },
   "outputs": [],
   "source": [
    "def save_model(model, X_scaler, orient, pix_per_cell, cell_per_block, spatial_size, hist_bins, color_space):\n",
    "    pick = {'model': model,\n",
    "           'X_scaler': X_scaler,\n",
    "           'hog_channel': hog_channel,\n",
    "           'orient': orient,\n",
    "           'pix_per_cell': pix_per_cell,\n",
    "           'cell_per_block': cell_per_block,\n",
    "           'spatial_size': spatial_size,\n",
    "           'hist_bins': hist_bins,\n",
    "           'color_space': color_space}\n",
    "    with open('model.pkl', 'wb') as f:\n",
    "        pickle.dump(pick, f)"
   ]
  },
  {
   "cell_type": "code",
   "execution_count": null,
   "metadata": {
    "collapsed": true
   },
   "outputs": [],
   "source": [
    "save_model(model, X_scaler, orient, pix_per_cell, cell_per_block, spatial_size, hist_bins, color_space)"
   ]
  },
  {
   "cell_type": "markdown",
   "metadata": {},
   "source": [
    "#### Load model Classifier"
   ]
  },
  {
   "cell_type": "code",
   "execution_count": null,
   "metadata": {
    "collapsed": true
   },
   "outputs": [],
   "source": [
    "def load_model():\n",
    "    with open('model.pkl', 'rb') as f:\n",
    "        pick = pickle.load(f)\n",
    "        model          = pick['model']\n",
    "        X_scaler       = pick['X_scaler']\n",
    "        hog_channel    = pick['hog_channel']\n",
    "        orient         = pick['orient']\n",
    "        pix_per_cell   = pick['pix_per_cell']\n",
    "        cell_per_block = pick['cell_per_block']\n",
    "        spatial_size   = pick['spatial_size']\n",
    "        hist_bins      = pick['hist_bins']\n",
    "        color_space    = pick['color_space']\n",
    "    return model, X_scaler, hog_channel, orient, pix_per_cell, cell_per_block, spatial_size, hist_bins, color_space"
   ]
  },
  {
   "cell_type": "markdown",
   "metadata": {},
   "source": [
    "## Test a Single Sample"
   ]
  },
  {
   "cell_type": "markdown",
   "metadata": {},
   "source": [
    "### Find cars"
   ]
  },
  {
   "cell_type": "code",
   "execution_count": null,
   "metadata": {
    "collapsed": true
   },
   "outputs": [],
   "source": [
    "# Define a single function that can extract features using hog sub-sampling and make predictions\n",
    "def find_cars(img, ystart, ystop, scale, model, X_scaler, hog_channel, orient, pix_per_cell, cell_per_block, spatial_size, hist_bins, color_space):\n",
    "\n",
    "    box_list = [] # Store output detection\n",
    "\n",
    "    # Scaled image\n",
    "    # Training: mpimg.imread png (0-1)\n",
    "    #           cv2.imread() (0-255)\n",
    "    # Using:    mpimg.imread jpg (0-255)\n",
    "    img = img.astype(np.float32)/255\n",
    "\n",
    "    img_tosearch = img[ystart:ystop,:,:] # [height, width, channel]\n",
    "    ctrans_tosearch = convert_color(img_tosearch, color_space=color_space)\n",
    "    if scale != 1:\n",
    "        imshape = ctrans_tosearch.shape\n",
    "        ctrans_tosearch = cv2.resize(ctrans_tosearch, (np.int(imshape[1]/scale), np.int(imshape[0]/scale)))\n",
    "\n",
    "    ch1 = ctrans_tosearch[:,:,0]\n",
    "    ch2 = ctrans_tosearch[:,:,1]\n",
    "    ch3 = ctrans_tosearch[:,:,2]\n",
    "\n",
    "    # Define blocks and steps as above\n",
    "    nxblocks = (ch1.shape[1] // pix_per_cell) - cell_per_block + 1\n",
    "    nyblocks = (ch1.shape[0] // pix_per_cell) - cell_per_block + 1 \n",
    "    #nfeat_per_block = orient*cell_per_block**2\n",
    "\n",
    "    # 64 was the original sampling rate, with 8 cells and 8 pix per cell\n",
    "    window = 64\n",
    "    nblocks_per_window = (window // pix_per_cell) - cell_per_block + 1\n",
    "    cells_per_step = 2  # Instead of overlap, define how many cells to step\n",
    "    nxsteps = (nxblocks - nblocks_per_window) // cells_per_step\n",
    "    nysteps = (nyblocks - nblocks_per_window) // cells_per_step\n",
    "\n",
    "    # Compute individual channel HOG features for the entire image\n",
    "    hog1 = get_hog_features(ch1, orient, pix_per_cell, cell_per_block, feature_vec=False)\n",
    "    hog2 = get_hog_features(ch2, orient, pix_per_cell, cell_per_block, feature_vec=False)\n",
    "    hog3 = get_hog_features(ch3, orient, pix_per_cell, cell_per_block, feature_vec=False)\n",
    "\n",
    "    # Sliding window\n",
    "    for xb in range(nxsteps):\n",
    "        for yb in range(nysteps):\n",
    "            ypos = yb*cells_per_step\n",
    "            xpos = xb*cells_per_step\n",
    "\n",
    "            # Extract HOG for this patch\n",
    "            if hog_channel == 0:\n",
    "                hog_features = hog1[ypos:ypos+nblocks_per_window, xpos:xpos+nblocks_per_window].ravel() \n",
    "            elif hog_channel == 1:\n",
    "                hog_features = hog2[ypos:ypos+nblocks_per_window, xpos:xpos+nblocks_per_window].ravel() \n",
    "            elif hog_channel == 2:\n",
    "                hog_features = hog3[ypos:ypos+nblocks_per_window, xpos:xpos+nblocks_per_window].ravel() \n",
    "            elif hog_channel == 'ALL':\n",
    "                hog_feat1 = hog1[ypos:ypos+nblocks_per_window, xpos:xpos+nblocks_per_window].ravel() \n",
    "                hog_feat2 = hog2[ypos:ypos+nblocks_per_window, xpos:xpos+nblocks_per_window].ravel() \n",
    "                hog_feat3 = hog3[ypos:ypos+nblocks_per_window, xpos:xpos+nblocks_per_window].ravel() \n",
    "                hog_features = np.hstack((hog_feat1, hog_feat2, hog_feat3))\n",
    "            else:\n",
    "                hog_features = []\n",
    "\n",
    "            xleft = xpos*pix_per_cell\n",
    "            ytop = ypos*pix_per_cell\n",
    "\n",
    "            # Extract the image patch\n",
    "            subimg = cv2.resize(ctrans_tosearch[ytop:ytop+window, xleft:xleft+window], (64,64))\n",
    "\n",
    "            # Get color features\n",
    "            spatial_features = bin_spatial(subimg, size=spatial_size)\n",
    "            hist_features = color_hist(subimg, nbins=hist_bins)\n",
    "\n",
    "            # Scale features and make a prediction\n",
    "            test_features = X_scaler.transform(np.hstack((spatial_features, hist_features, hog_features)).reshape(1, -1))\n",
    "            #test_features = X_scaler.transform(np.hstack((shape_feat, hist_feat)).reshape(1, -1))    \n",
    "\n",
    "            test_prediction = model.predict(test_features)\n",
    "\n",
    "            if test_prediction == 1:\n",
    "                xbox_left = np.int(xleft*scale)\n",
    "                ytop_draw = np.int(ytop*scale)\n",
    "                win_draw = np.int(window*scale)\n",
    "                box_list.append([(xbox_left, ytop_draw+ystart),(xbox_left+win_draw,ytop_draw+win_draw+ystart)])\n",
    "\n",
    "    return box_list"
   ]
  },
  {
   "cell_type": "markdown",
   "metadata": {},
   "source": [
    "### Apply Heat Map"
   ]
  },
  {
   "cell_type": "code",
   "execution_count": null,
   "metadata": {
    "collapsed": true
   },
   "outputs": [],
   "source": [
    "def pipeline_heatmap(img, box_list):\n",
    "\n",
    "    heat = np.zeros_like(img[:,:,0]).astype(np.float)\n",
    "\n",
    "    # Add heat to each box in box list\n",
    "    heat = add_heat(heat,box_list)\n",
    "\n",
    "    # Apply threshold to help remove false positives\n",
    "    heat = apply_threshold(heat, 0.5)\n",
    "\n",
    "    # Visualize the heatmap when displaying    \n",
    "    heatmap = np.clip(heat, 0, 255)\n",
    "\n",
    "    # Find final boxes from heatmap using label function\n",
    "    labels = label(heatmap)\n",
    "    draw_img = draw_labeled_bboxes(np.copy(img), labels)\n",
    "\n",
    "    return draw_img, heatmap"
   ]
  },
  {
   "cell_type": "markdown",
   "metadata": {},
   "source": [
    "### Test Find Cars function"
   ]
  },
  {
   "cell_type": "code",
   "execution_count": null,
   "metadata": {
    "collapsed": true
   },
   "outputs": [],
   "source": [
    "model, X_scaler, hog_channel, orient, pix_per_cell, cell_per_block, \\\n",
    "    spatial_size, hist_bins, color_space = load_model()\n",
    "\n",
    "img_paths = glob.glob('test_images/*.jpg')\n",
    "\n",
    "for img_path in img_paths:\n",
    "    # Check the prediction time for a single sample\n",
    "    t=time.time()\n",
    "\n",
    "    img = mpimg.imread(img_path)\n",
    "\n",
    "    ystart = int(img.shape[0]/1.8)\n",
    "    ystop = img.shape[0]//10*9\n",
    "    scale = 1.5 # Scale image to speedup\n",
    "    cv2.rectangle(img, (0, ystart), (img.shape[1], ystop), (0,0,255), 6)\n",
    "\n",
    "    box_list = find_cars(img, ystart, ystop, scale, model, X_scaler, hog_channel, \n",
    "                         orient, pix_per_cell, cell_per_block, spatial_size, hist_bins, color_space)\n",
    "    t2 = time.time()\n",
    "    print(round(t2-t, 2), 'Seconds to predict a single sample...')\n",
    "    print('Number of boxlist =', len(box_list))\n",
    "\n",
    "    draw_img, heatmap = pipeline_heatmap(img, box_list)\n",
    "\n",
    "    fig = plt.figure()\n",
    "    plt.subplot(121)\n",
    "    plt.imshow(draw_img)\n",
    "    plt.title('Car Positions')\n",
    "    plt.subplot(122)\n",
    "    plt.imshow(heatmap, cmap='hot')\n",
    "    plt.title('Heat Map')\n",
    "    fig.tight_layout()"
   ]
  },
  {
   "cell_type": "markdown",
   "metadata": {},
   "source": [
    "## Pipeline Detection"
   ]
  },
  {
   "cell_type": "code",
   "execution_count": null,
   "metadata": {
    "collapsed": true
   },
   "outputs": [],
   "source": [
    "def process_image(img):\n",
    "\n",
    "    ystart = int(img.shape[0]/1.8)\n",
    "    ystop = img.shape[0]//10*9\n",
    "    scale = 1.5\n",
    "    cv2.rectangle(img, (0, ystart), (img.shape[1], ystop), (0,0,255), 6)\n",
    "\n",
    "    box_list = find_cars(img, ystart, ystop, scale, model, X_scaler, hog_channel, \n",
    "                         orient, pix_per_cell, cell_per_block, spatial_size, hist_bins, color_space)\n",
    "    draw_img, heatmap = pipeline_heatmap(img, box_list)\n",
    "\n",
    "    return draw_img"
   ]
  },
  {
   "cell_type": "markdown",
   "metadata": {
    "collapsed": true
   },
   "source": [
    "## Test video"
   ]
  },
  {
   "cell_type": "code",
   "execution_count": null,
   "metadata": {
    "collapsed": true,
    "scrolled": false
   },
   "outputs": [],
   "source": [
    "model, X_scaler, hog_channel, orient, pix_per_cell, cell_per_block, \\\n",
    "    spatial_size, hist_bins, color_space = load_model()\n",
    "\n",
    "video_name = 'test_video.mp4'\n",
    "output_path = 'output_videos/'\n",
    "\n",
    "clip1 = VideoFileClip(video_name)\n",
    "white_clip = clip1.fl_image(process_image) #NOTE: this function expects color images!!\n",
    "%time white_clip.write_videofile(output_path+video_name, audio=False)"
   ]
  },
  {
   "cell_type": "code",
   "execution_count": null,
   "metadata": {
    "collapsed": true
   },
   "outputs": [],
   "source": [
    "HTML(\"\"\"\n",
    "<video width=\"960\" height=\"540\" controls>\n",
    "  <source src=\"{0}\">\n",
    "</video>\n",
    "\"\"\".format(output_path+video_name))"
   ]
  },
  {
   "cell_type": "markdown",
   "metadata": {},
   "source": [
    "## Project video"
   ]
  },
  {
   "cell_type": "code",
   "execution_count": null,
   "metadata": {
    "collapsed": true
   },
   "outputs": [],
   "source": [
    "video_name = 'project_video.mp4'\n",
    "output_path = 'output_videos/'\n",
    "clip1 = VideoFileClip(video_name)\n",
    "white_clip = clip1.fl_image(process_image) #NOTE: this function expects color images!!\n",
    "%time white_clip.write_videofile(output_path+video_name, audio=False)"
   ]
  },
  {
   "cell_type": "code",
   "execution_count": null,
   "metadata": {
    "collapsed": true,
    "scrolled": false
   },
   "outputs": [],
   "source": [
    "HTML(\"\"\"\n",
    "<video width=\"960\" height=\"540\" controls>\n",
    "  <source src=\"{0}\">\n",
    "</video>\n",
    "\"\"\".format(output_path+video_name))"
   ]
  },
  {
   "cell_type": "code",
   "execution_count": null,
   "metadata": {
    "collapsed": true
   },
   "outputs": [],
   "source": []
  }
 ],
 "metadata": {
  "anaconda-cloud": {},
  "kernelspec": {
   "display_name": "Python 3",
   "language": "python",
   "name": "python3"
  },
  "language_info": {
   "codemirror_mode": {
    "name": "ipython",
    "version": 3
   },
   "file_extension": ".py",
   "mimetype": "text/x-python",
   "name": "python",
   "nbconvert_exporter": "python",
   "pygments_lexer": "ipython3",
   "version": "3.5.2"
  },
  "widgets": {
   "state": {},
   "version": "1.1.2"
  }
 },
 "nbformat": 4,
 "nbformat_minor": 1
}
